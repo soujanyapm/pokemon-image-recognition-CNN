{
  "nbformat": 4,
  "nbformat_minor": 0,
  "metadata": {
    "colab": {
      "name": "Pokemon_CNN.ipynb",
      "provenance": [],
      "collapsed_sections": [],
      "authorship_tag": "ABX9TyPKzaebTqCvpdAVLPh1YGK5"
    },
    "kernelspec": {
      "name": "python3",
      "display_name": "Python 3"
    },
    "language_info": {
      "name": "python"
    }
  },
  "cells": [
    {
      "cell_type": "markdown",
      "source": [
        "\n",
        "http://www.jessicayung.com/using-generators-in-python-to-train-machine-learning-models/"
      ],
      "metadata": {
        "id": "RKg3FuS396y7"
      }
    },
    {
      "cell_type": "code",
      "source": [
        "from google.colab import drive\n",
        "drive.mount('/content/drive')"
      ],
      "metadata": {
        "colab": {
          "base_uri": "https://localhost:8080/"
        },
        "id": "ePTeAxRs99XD",
        "outputId": "a3e49cc4-110b-4aba-bf4b-bd0841b32958"
      },
      "execution_count": null,
      "outputs": [
        {
          "output_type": "stream",
          "name": "stdout",
          "text": [
            "Mounted at /content/drive\n"
          ]
        }
      ]
    },
    {
      "cell_type": "code",
      "source": [
        "import os\n",
        "os.getcwd()"
      ],
      "metadata": {
        "colab": {
          "base_uri": "https://localhost:8080/",
          "height": 35
        },
        "id": "6g4NzOxU-pPD",
        "outputId": "ad23bb9e-02e1-4bf7-b9cf-09d8a6b9d99b"
      },
      "execution_count": null,
      "outputs": [
        {
          "output_type": "execute_result",
          "data": {
            "application/vnd.google.colaboratory.intrinsic+json": {
              "type": "string"
            },
            "text/plain": [
              "'/content'"
            ]
          },
          "metadata": {},
          "execution_count": 3
        }
      ]
    },
    {
      "cell_type": "code",
      "source": [
        "from keras.models import Sequential\n",
        "from keras.layers import Conv2D, MaxPooling2D, Flatten, Dense"
      ],
      "metadata": {
        "id": "W_8Szaof-unk"
      },
      "execution_count": null,
      "outputs": []
    },
    {
      "cell_type": "code",
      "source": [
        "classifier = Sequential()"
      ],
      "metadata": {
        "id": "u5IwNPT0_k4q"
      },
      "execution_count": null,
      "outputs": []
    },
    {
      "cell_type": "code",
      "source": [
        "# Step 1 - Convolution\n",
        "classifier.add(Conv2D(32,(3,3), input_shape=(64,64,3), activation='relu'))\n",
        "\n",
        "# Step 2 - Pooling\n",
        "classifier.add(MaxPooling2D(pool_size=(2,2)))\n",
        "\n",
        "\n",
        "# Adding a second convolutional layer\n",
        "classifier.add(Conv2D(32, (3,3), activation='relu'))\n",
        "classifier.add(MaxPooling2D(pool_size=(2,2)))\n",
        "\n",
        "# Step 3 - Flattening\n",
        "classifier.add(Flatten())\n",
        "\n",
        "# Step 4 - Full connection\n",
        "classifier.add(Dense(units=128, activation='relu'))\n",
        "classifier.add(Dense(units= 3, activation='softmax')) # 3 units because we have 3 classes of pokemon\n",
        "\n",
        "\n",
        "# Compiling the CNN\n",
        "classifier.compile(optimizer='adam', loss ='categorical_crossentropy', metrics=['accuracy'])\n",
        "\n"
      ],
      "metadata": {
        "id": "lyC7chpG_pEi"
      },
      "execution_count": null,
      "outputs": []
    },
    {
      "cell_type": "code",
      "source": [
        "classifier.summary()"
      ],
      "metadata": {
        "colab": {
          "base_uri": "https://localhost:8080/"
        },
        "id": "Q-2P4MLEG704",
        "outputId": "d235ed4d-0041-4d6b-f644-8c49e1a38f13"
      },
      "execution_count": null,
      "outputs": [
        {
          "output_type": "stream",
          "name": "stdout",
          "text": [
            "Model: \"sequential\"\n",
            "_________________________________________________________________\n",
            " Layer (type)                Output Shape              Param #   \n",
            "=================================================================\n",
            " conv2d (Conv2D)             (None, 62, 62, 32)        896       \n",
            "                                                                 \n",
            " max_pooling2d (MaxPooling2D  (None, 31, 31, 32)       0         \n",
            " )                                                               \n",
            "                                                                 \n",
            " conv2d_1 (Conv2D)           (None, 29, 29, 32)        9248      \n",
            "                                                                 \n",
            " max_pooling2d_1 (MaxPooling  (None, 14, 14, 32)       0         \n",
            " 2D)                                                             \n",
            "                                                                 \n",
            " flatten (Flatten)           (None, 6272)              0         \n",
            "                                                                 \n",
            " dense (Dense)               (None, 128)               802944    \n",
            "                                                                 \n",
            " dense_1 (Dense)             (None, 3)                 387       \n",
            "                                                                 \n",
            "=================================================================\n",
            "Total params: 813,475\n",
            "Trainable params: 813,475\n",
            "Non-trainable params: 0\n",
            "_________________________________________________________________\n"
          ]
        }
      ]
    },
    {
      "cell_type": "code",
      "source": [
        "# Part 2 - Fitting the CNN to the images\n",
        "\n",
        "# Using ImageDataGenerator, we create more images with single image, by rotating, tilting, zooming the original image.This is called Image augmentation.\n",
        "from keras.preprocessing.image import ImageDataGenerator\n",
        "\n",
        "# rescale the each pixel of image by multiplying each pixel value with the ratio 1/255 = 0.0039\n",
        "# Shear range slants the shape of the image.\n",
        "train_datagen = ImageDataGenerator(rescale = 1./255,\n",
        "                                   shear_range = 0.2,\n",
        "                                   zoom_range = 0.2,\n",
        "                                   horizontal_flip = True \n",
        "                                   )\n",
        "\n",
        "# for test data we dont create extra images.\n",
        "test_datagen = ImageDataGenerator(rescale = 1./255)\n",
        "\n",
        "# batch_size = 32 --> at a time take only 32 images to process.\n",
        "training_set = train_datagen.flow_from_directory('/content/drive/My Drive/dataset/training_set',\n",
        "                                                 target_size = (64,64),\n",
        "                                                 batch_size = 32,\n",
        "                                                 class_mode = 'categorical')\n",
        "\n",
        "test_set = test_datagen.flow_from_directory('/content/drive/My Drive/dataset/test_set',\n",
        "                                            target_size = (64, 64),\n",
        "                                            batch_size = 32,\n",
        "                                            class_mode = 'categorical')\n"
      ],
      "metadata": {
        "id": "S1DwJcT1HAEl",
        "colab": {
          "base_uri": "https://localhost:8080/"
        },
        "outputId": "9d88ac3b-db1e-4539-ab9f-494e5c7959d2"
      },
      "execution_count": null,
      "outputs": [
        {
          "output_type": "stream",
          "name": "stdout",
          "text": [
            "Found 446 images belonging to 3 classes.\n",
            "Found 238 images belonging to 3 classes.\n"
          ]
        }
      ]
    },
    {
      "cell_type": "code",
      "source": [
        "print(type(training_set))\n",
        "print(type(train_datagen))"
      ],
      "metadata": {
        "colab": {
          "base_uri": "https://localhost:8080/"
        },
        "id": "wwO5z1ccNYNE",
        "outputId": "e50cce03-0726-4616-8b6c-70480717bb9e"
      },
      "execution_count": null,
      "outputs": [
        {
          "output_type": "stream",
          "name": "stdout",
          "text": [
            "<class 'keras.preprocessing.image.DirectoryIterator'>\n",
            "<class 'keras.preprocessing.image.ImageDataGenerator'>\n"
          ]
        }
      ]
    },
    {
      "cell_type": "code",
      "source": [
        "classifier.fit_generator(training_set,\n",
        "                         epochs = 5,\n",
        "                         shuffle = True\n",
        "                         )"
      ],
      "metadata": {
        "colab": {
          "base_uri": "https://localhost:8080/"
        },
        "id": "0mATDkgxNjS1",
        "outputId": "990dc1cf-12ac-4bdc-c006-cc3fe21e1eb6"
      },
      "execution_count": null,
      "outputs": [
        {
          "output_type": "stream",
          "name": "stderr",
          "text": [
            "/usr/local/lib/python3.7/dist-packages/ipykernel_launcher.py:3: UserWarning: `Model.fit_generator` is deprecated and will be removed in a future version. Please use `Model.fit`, which supports generators.\n",
            "  This is separate from the ipykernel package so we can avoid doing imports until\n"
          ]
        },
        {
          "output_type": "stream",
          "name": "stdout",
          "text": [
            "Epoch 1/5\n",
            "10/14 [====================>.........] - ETA: 22s - loss: 1.1569 - accuracy: 0.4371"
          ]
        },
        {
          "output_type": "stream",
          "name": "stderr",
          "text": [
            "/usr/local/lib/python3.7/dist-packages/PIL/Image.py:960: UserWarning: Palette images with Transparency expressed in bytes should be converted to RGBA images\n",
            "  \"Palette images with Transparency expressed in bytes should be \"\n"
          ]
        },
        {
          "output_type": "stream",
          "name": "stdout",
          "text": [
            "14/14 [==============================] - 81s 6s/step - loss: 1.0706 - accuracy: 0.5314\n",
            "Epoch 2/5\n",
            "14/14 [==============================] - 16s 1s/step - loss: 0.6118 - accuracy: 0.7668\n",
            "Epoch 3/5\n",
            "14/14 [==============================] - 16s 1s/step - loss: 0.4148 - accuracy: 0.8386\n",
            "Epoch 4/5\n",
            "14/14 [==============================] - 16s 1s/step - loss: 0.2918 - accuracy: 0.8901\n",
            "Epoch 5/5\n",
            "14/14 [==============================] - 16s 1s/step - loss: 0.2656 - accuracy: 0.9058\n"
          ]
        },
        {
          "output_type": "execute_result",
          "data": {
            "text/plain": [
              "<keras.callbacks.History at 0x7f18ef9b42d0>"
            ]
          },
          "metadata": {},
          "execution_count": 10
        }
      ]
    },
    {
      "cell_type": "code",
      "source": [
        "import numpy as np\n",
        "predictions = classifier.predict(test_set)\n",
        "predictions = np.argmax(predictions,axis=1)"
      ],
      "metadata": {
        "id": "oVdVVygEQfGU"
      },
      "execution_count": null,
      "outputs": []
    },
    {
      "cell_type": "code",
      "source": [
        "predictions"
      ],
      "metadata": {
        "colab": {
          "base_uri": "https://localhost:8080/"
        },
        "id": "db9FiTHqRiF-",
        "outputId": "1b74fd60-06ad-4265-e1b6-b9c450da5d7b"
      },
      "execution_count": null,
      "outputs": [
        {
          "output_type": "execute_result",
          "data": {
            "text/plain": [
              "array([1, 0, 0, 1, 1, 1, 2, 0, 0, 2, 1, 2, 0, 1, 2, 2, 1, 1, 2, 2, 0, 2,\n",
              "       1, 0, 1, 1, 2, 1, 1, 0, 2, 0, 2, 1, 0, 0, 2, 1, 2, 1, 0, 0, 1, 1,\n",
              "       2, 2, 0, 0, 0, 0, 1, 1, 2, 0, 0, 2, 1, 1, 0, 0, 0, 1, 2, 2, 2, 2,\n",
              "       2, 2, 2, 2, 1, 2, 0, 1, 0, 2, 2, 1, 0, 1, 0, 0, 2, 2, 1, 0, 1, 0,\n",
              "       1, 2, 1, 2, 1, 2, 1, 0, 0, 2, 0, 1, 1, 2, 2, 2, 0, 0, 0, 0, 2, 1,\n",
              "       2, 2, 0, 0, 0, 1, 2, 2, 0, 2, 0, 2, 2, 1, 1, 1, 2, 0, 1, 0, 1, 2,\n",
              "       2, 0, 0, 1, 1, 1, 2, 0, 2, 0, 0, 1, 0, 2, 1, 2, 0, 0, 2, 1, 2, 1,\n",
              "       1, 1, 0, 2, 2, 0, 2, 1, 1, 0, 2, 1, 2, 1, 0, 2, 0, 1, 0, 1, 0, 2,\n",
              "       0, 0, 1, 2, 0, 1, 2, 0, 1, 1, 0, 2, 0, 0, 0, 2, 0, 1, 0, 0, 1, 0,\n",
              "       1, 1, 0, 0, 2, 1, 2, 1, 1, 2, 0, 0, 2, 1, 1, 0, 0, 1, 1, 1, 2, 1,\n",
              "       2, 2, 0, 2, 2, 2, 2, 1, 1, 1, 1, 1, 2, 1, 0, 0, 2, 1])"
            ]
          },
          "metadata": {},
          "execution_count": 12
        }
      ]
    },
    {
      "cell_type": "code",
      "source": [
        "classes = training_set.class_indices\n",
        "classes"
      ],
      "metadata": {
        "colab": {
          "base_uri": "https://localhost:8080/"
        },
        "id": "kUBvuoS2l6rs",
        "outputId": "30c0bfb1-f6f7-46fe-8fec-ec34c88779cc"
      },
      "execution_count": null,
      "outputs": [
        {
          "output_type": "execute_result",
          "data": {
            "text/plain": [
              "{'bulbasaur': 0, 'charmander': 1, 'pikachu': 2}"
            ]
          },
          "metadata": {},
          "execution_count": 13
        }
      ]
    },
    {
      "cell_type": "code",
      "source": [
        "from PIL import Image\n",
        "img = Image.open('/content/drive/My Drive/pokemon-img.png')\n",
        "img = img.resize((64,64))\n",
        "img2arr = np.array(img)\n",
        "img2arr = img2arr.reshape(1,64,64,3)\n",
        "pred = classifier.predict(img2arr)"
      ],
      "metadata": {
        "id": "BLQtQvPxmfPe"
      },
      "execution_count": null,
      "outputs": []
    },
    {
      "cell_type": "code",
      "source": [
        "np.argmax(pred,axis=1)"
      ],
      "metadata": {
        "colab": {
          "base_uri": "https://localhost:8080/"
        },
        "id": "JM69jwR6taMD",
        "outputId": "7d4543d6-ad6d-4f5c-c20c-11e230374085"
      },
      "execution_count": null,
      "outputs": [
        {
          "output_type": "execute_result",
          "data": {
            "text/plain": [
              "array([1])"
            ]
          },
          "metadata": {},
          "execution_count": 26
        }
      ]
    },
    {
      "cell_type": "code",
      "source": [
        "img = Image.open('/content/drive/My Drive/pokemon_img_2.png').convert(\"RGB\")\n",
        "img = img.resize((64,64))\n",
        "img2arr = np.array(img)\n",
        "img2arr = img2arr.reshape(1,64,64,3)\n",
        "pred = classifier.predict(img2arr)"
      ],
      "metadata": {
        "id": "2C05WLVNOD3k"
      },
      "execution_count": null,
      "outputs": []
    },
    {
      "cell_type": "code",
      "source": [
        "np.argmax(pred,axis=1)"
      ],
      "metadata": {
        "colab": {
          "base_uri": "https://localhost:8080/"
        },
        "id": "FLNrsbdYO5C0",
        "outputId": "ba842472-7a3d-40f6-c680-47612389973f"
      },
      "execution_count": null,
      "outputs": [
        {
          "output_type": "execute_result",
          "data": {
            "text/plain": [
              "array([0])"
            ]
          },
          "metadata": {},
          "execution_count": 30
        }
      ]
    }
  ]
}